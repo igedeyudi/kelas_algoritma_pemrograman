{
 "cells": [
  {
   "cell_type": "markdown",
   "metadata": {},
   "source": [
    "<h1 style=\"color: #fff; background: #142d4c; padding: 10px; border-radius:10px\"> Latihan Pertemuan 2 </h1>\n",
    "\n",
    "**Author: Bakhtiar Amaludin, I Gede Yudi Paramartha, Widya Pranayoga**"
   ]
  },
  {
   "cell_type": "markdown",
   "metadata": {},
   "source": [
    "<h2 style=\"color: #142d4c; background: #9fd3c7; padding: 10px; border-radius:10px\"> Koreksi Syntax </h2>\n",
    "<h3 style=\"color: #142d4c; background: #ececec; padding: 10px; border-radius:10px\"> Identifier </h3>\n",
    "\n",
    "Koreksi kode berikut agar tidak terjadi error"
   ]
  },
  {
   "cell_type": "code",
   "execution_count": 1,
   "metadata": {
    "ExecuteTime": {
     "end_time": "2023-04-02T15:18:44.969200Z",
     "start_time": "2023-04-02T15:18:44.953787Z"
    }
   },
   "outputs": [
    {
     "ename": "SyntaxError",
     "evalue": "invalid syntax (<ipython-input-1-58099f95770a>, line 1)",
     "output_type": "error",
     "traceback": [
      "\u001b[1;36m  File \u001b[1;32m\"<ipython-input-1-58099f95770a>\"\u001b[1;36m, line \u001b[1;32m1\u001b[0m\n\u001b[1;33m    $account = 90\u001b[0m\n\u001b[1;37m    ^\u001b[0m\n\u001b[1;31mSyntaxError\u001b[0m\u001b[1;31m:\u001b[0m invalid syntax\n"
     ]
    }
   ],
   "source": [
    "$account = 90\n",
    "current ratio = 0.9\n",
    "transaction%id = 'TR00001'\n",
    "def = \"definisi transaksi\"\n",
    "global = \"Dunia\""
   ]
  },
  {
   "cell_type": "markdown",
   "metadata": {},
   "source": [
    "<h3 style=\"color: #142d4c; background: #ececec; padding: 10px; border-radius:10px\"> Indentasi </h3>\n",
    "    \n",
    "Koreksi kode berikut agar tidak terjadi error"
   ]
  },
  {
   "cell_type": "code",
   "execution_count": null,
   "metadata": {
    "ExecuteTime": {
     "end_time": "2023-04-02T15:18:44.971195Z",
     "start_time": "2023-04-02T15:18:44.948Z"
    }
   },
   "outputs": [],
   "source": [
    "a = 100; b = 0\n",
    "\n",
    "try:\n",
    "print(a/b)\n",
    "except:\n",
    "print(\"Pembagian Error\")"
   ]
  },
  {
   "cell_type": "markdown",
   "metadata": {},
   "source": [
    "<h3 style=\"color: #142d4c; background: #ececec; padding: 10px; border-radius:10px\"> Teks </h3>\n",
    "\n",
    "Koreksi kode berikut agar tidak terjadi error"
   ]
  },
  {
   "cell_type": "code",
   "execution_count": null,
   "metadata": {
    "ExecuteTime": {
     "end_time": "2023-04-02T15:18:44.971195Z",
     "start_time": "2023-04-02T15:18:44.950Z"
    }
   },
   "outputs": [],
   "source": [
    "teks_1 = \"Sri Mulyani Indrawati menyebut bahwa \"transformasi menuju perekonomian digital adalah salah satu sumber pertumbuhan utama bagi ASEAN.\"\"\n",
    "print(teks_1)"
   ]
  },
  {
   "cell_type": "code",
   "execution_count": null,
   "metadata": {
    "ExecuteTime": {
     "end_time": "2023-04-02T15:18:44.972192Z",
     "start_time": "2023-04-02T15:18:44.951Z"
    }
   },
   "outputs": [],
   "source": [
    "teks_2 = \"\"\"\n",
    "\"Indonesia dengan pertumbuhan yang kuat 5,3% tahun lalu, kami memprediksi kuartał pertama masih akan tetap kuat. \n",
    "Permintaan dalam negeri, konsumsi, dan investasi masih kuat, sehingga kami optimis NPL tidak akan mengalami peningkatan\", ujar Menkeu.\n",
    "'''\n",
    "print(teks_2)"
   ]
  },
  {
   "cell_type": "code",
   "execution_count": null,
   "metadata": {
    "ExecuteTime": {
     "end_time": "2023-04-02T15:18:44.973189Z",
     "start_time": "2023-04-02T15:18:44.953Z"
    }
   },
   "outputs": [],
   "source": [
    "teks_3 = 'The 90's was a decade of diversity, \"change\", and innovation in music, art, fashion, and culture'\n",
    "print(teks_3)"
   ]
  },
  {
   "cell_type": "markdown",
   "metadata": {},
   "source": [
    "<h2 style=\"color: #142d4c; background: #9fd3c7; padding: 10px; border-radius:10px\"> Tipe Data dan Operator </h2>"
   ]
  },
  {
   "cell_type": "markdown",
   "metadata": {},
   "source": [
    "<h3 style=\"color: #142d4c; background: #ececec; padding: 10px; border-radius:10px\"> Cetak Angka 64 </h3>\n",
    "Print angka 64, tanpa menggunakan fungsi dan karakter berikut di kode / cell 1,2,3,4,5,6,7,8,9,0"
   ]
  },
  {
   "cell_type": "code",
   "execution_count": null,
   "metadata": {
    "ExecuteTime": {
     "end_time": "2023-04-02T15:18:44.974188Z",
     "start_time": "2023-04-02T15:18:44.954Z"
    }
   },
   "outputs": [],
   "source": [
    "## Jawaban "
   ]
  },
  {
   "cell_type": "markdown",
   "metadata": {
    "tags": []
   },
   "source": [
    "<h3 style=\"color: #142d4c; background: #ececec; padding: 10px; border-radius:10px\"> Pembagian Kelompok </h3>\n",
    "\n",
    "Dalam sebuah ospek yang terdiri dari 3123 mahasiswa, ingin dibentuk sebuah kelompok yang berisi masing-masing 12 mahasiswa. \n",
    "Jika ada satu kelompok yang kurang dari ketentuan, maka mahasiswa di kelompok tersebut akan dialokasikan ke kelompok lain sehingga terdapat kelompok yang jumlah anggotanya 13.\n",
    "\n",
    "Dengan menggunakan python, hitung:\n",
    "- ada berapa kelompok yang memiliki anggota 13.\n",
    "- ada berapa kelompok yang memiliki anggota 12."
   ]
  },
  {
   "cell_type": "code",
   "execution_count": null,
   "metadata": {
    "ExecuteTime": {
     "end_time": "2023-04-02T15:18:44.974188Z",
     "start_time": "2023-04-02T15:18:44.956Z"
    }
   },
   "outputs": [],
   "source": [
    "## Jawaban "
   ]
  }
 ],
 "metadata": {
  "kernelspec": {
   "display_name": "Python 3",
   "language": "python",
   "name": "python3"
  },
  "language_info": {
   "codemirror_mode": {
    "name": "ipython",
    "version": 3
   },
   "file_extension": ".py",
   "mimetype": "text/x-python",
   "name": "python",
   "nbconvert_exporter": "python",
   "pygments_lexer": "ipython3",
   "version": "3.7.6"
  },
  "toc": {
   "base_numbering": 1,
   "nav_menu": {},
   "number_sections": true,
   "sideBar": true,
   "skip_h1_title": false,
   "title_cell": "Table of Contents",
   "title_sidebar": "Contents",
   "toc_cell": false,
   "toc_position": {},
   "toc_section_display": true,
   "toc_window_display": true
  }
 },
 "nbformat": 4,
 "nbformat_minor": 5
}
