{
 "cells": [
  {
   "cell_type": "markdown",
   "metadata": {},
   "source": [
    "<h1 style=\"color: #fff; background: #142d4c; padding: 10px; border-radius:10px\"> Jawaban - Latihan Pertemuan 2 </h1>\n",
    "\n",
    "**Author: Bakhtiar Amaludin, I Gede Yudi Paramartha, Widya Pranayoga**"
   ]
  },
  {
   "cell_type": "markdown",
   "metadata": {},
   "source": [
    "<h2 style=\"color: #142d4c; background: #9fd3c7; padding: 10px; border-radius:10px\"> Koreksi Syntax </h2>\n",
    "<h3 style=\"color: #142d4c; background: #ececec; padding: 10px; border-radius:10px\"> Identifier </h3>\n",
    "\n",
    "Koreksi kode berikut agar tidak terjadi error"
   ]
  },
  {
   "cell_type": "code",
   "execution_count": 1,
   "metadata": {
    "ExecuteTime": {
     "end_time": "2023-04-02T14:44:40.542342Z",
     "start_time": "2023-04-02T14:44:40.525292Z"
    }
   },
   "outputs": [],
   "source": [
    "account = 90\n",
    "current_ratio = 0.9\n",
    "transaction_id = 'TR00001'\n",
    "def_ = \"definisi transaksi\"\n",
    "global_ = \"Dunia\""
   ]
  },
  {
   "cell_type": "markdown",
   "metadata": {},
   "source": [
    "<h3 style=\"color: #142d4c; background: #ececec; padding: 10px; border-radius:10px\"> Indentasi </h3>\n",
    "    \n",
    "Koreksi kode berikut agar tidak terjadi error"
   ]
  },
  {
   "cell_type": "code",
   "execution_count": 2,
   "metadata": {},
   "outputs": [
    {
     "name": "stdout",
     "output_type": "stream",
     "text": [
      "Pembagian Error\n"
     ]
    }
   ],
   "source": [
    "a = 100; b = 0\n",
    "\n",
    "try:\n",
    "    print(a/b)\n",
    "except:\n",
    "    print(\"Pembagian Error\")"
   ]
  },
  {
   "cell_type": "markdown",
   "metadata": {},
   "source": [
    "<h3 style=\"color: #142d4c; background: #ececec; padding: 10px; border-radius:10px\"> Teks </h3>\n",
    "\n",
    "Koreksi kode berikut agar tidak terjadi error"
   ]
  },
  {
   "cell_type": "code",
   "execution_count": 4,
   "metadata": {},
   "outputs": [
    {
     "name": "stdout",
     "output_type": "stream",
     "text": [
      "Sri Mulyani Indrawati menyebut bahwa \"transformasi menuju perekonomian digital adalah salah satu sumber pertumbuhan utama bagi ASEAN.\"\n"
     ]
    }
   ],
   "source": [
    "teks_1 = 'Sri Mulyani Indrawati menyebut bahwa \"transformasi menuju perekonomian digital adalah salah satu sumber pertumbuhan utama bagi ASEAN.\"'\n",
    "print(teks_1)"
   ]
  },
  {
   "cell_type": "code",
   "execution_count": 5,
   "metadata": {},
   "outputs": [
    {
     "name": "stdout",
     "output_type": "stream",
     "text": [
      "\n",
      "\"Indonesia dengan pertumbuhan yang kuat 5,3% tahun lalu, kami memprediksi kuartał pertama masih akan tetap kuat. \n",
      "Permintaan dalam negeri, konsumsi, dan investasi masih kuat, sehingga kami optimis NPL tidak akan mengalami peningkatan\", ujar Menkeu.\n",
      "\n"
     ]
    }
   ],
   "source": [
    "teks_2 = \"\"\"\n",
    "\"Indonesia dengan pertumbuhan yang kuat 5,3% tahun lalu, kami memprediksi kuartał pertama masih akan tetap kuat. \n",
    "Permintaan dalam negeri, konsumsi, dan investasi masih kuat, sehingga kami optimis NPL tidak akan mengalami peningkatan\", ujar Menkeu.\n",
    "\"\"\"\n",
    "print(teks_2)"
   ]
  },
  {
   "cell_type": "code",
   "execution_count": 73,
   "metadata": {},
   "outputs": [
    {
     "name": "stdout",
     "output_type": "stream",
     "text": [
      "The 90's was a decade of diversity, \"change\", and innovation in music, art, fashion, and culture\n"
     ]
    }
   ],
   "source": [
    "teks_3 = 'The 90\\'s was a decade of diversity, \\\"change\\\", and innovation in music, art, fashion, and culture'\n",
    "print(teks_3)"
   ]
  },
  {
   "cell_type": "markdown",
   "metadata": {},
   "source": [
    "<h2 style=\"color: #142d4c; background: #9fd3c7; padding: 10px; border-radius:10px\"> Tipe Data dan Operator </h2>"
   ]
  },
  {
   "cell_type": "markdown",
   "metadata": {},
   "source": [
    "<h3 style=\"color: #142d4c; background: #ececec; padding: 10px; border-radius:10px\"> Cetak Angka 64 </h3>\n",
    "Print angka 64, tanpa menggunakan fungsi dan karakter berikut di kode / cell 1,2,3,4,5,6,7,8,9,0"
   ]
  },
  {
   "cell_type": "code",
   "execution_count": 26,
   "metadata": {},
   "outputs": [
    {
     "data": {
      "text/plain": [
       "64"
      ]
     },
     "execution_count": 26,
     "metadata": {},
     "output_type": "execute_result"
    }
   ],
   "source": [
    "## Jawaban\n",
    "one = True\n",
    "two = one + one\n",
    "(two + two) ** (two + one)"
   ]
  },
  {
   "cell_type": "markdown",
   "metadata": {
    "tags": []
   },
   "source": [
    "<h3 style=\"color: #142d4c; background: #ececec; padding: 10px; border-radius:10px\"> Pembagian Kelompok </h3>\n",
    "\n",
    "Dalam sebuah ospek yang terdiri dari 3123 mahasiswa, ingin dibentuk sebuah kelompok yang berisi masing-masing 12 mahasiswa. \n",
    "Jika ada satu kelompok yang kurang dari ketentuan, maka mahasiswa di kelompok tersebut akan dialokasikan ke kelompok lain sehingga terdapat kelompok yang jumlah anggotanya 13.\n",
    "\n",
    "Dengan menggunakan python, hitung:\n",
    "- ada berapa kelompok yang memiliki anggota 13.\n",
    "- ada berapa kelompok yang memiliki anggota 12."
   ]
  },
  {
   "cell_type": "code",
   "execution_count": 16,
   "metadata": {},
   "outputs": [
    {
     "name": "stdout",
     "output_type": "stream",
     "text": [
      "3\n",
      "257\n"
     ]
    }
   ],
   "source": [
    "## Jawaban\n",
    "jumlah = 3123\n",
    "n_anggota = 12\n",
    "\n",
    "print(jumlah % n_anggota)\n",
    "print(jumlah // n_anggota - jumlah % n_anggota)"
   ]
  }
 ],
 "metadata": {
  "kernelspec": {
   "display_name": "Python 3",
   "language": "python",
   "name": "python3"
  },
  "language_info": {
   "codemirror_mode": {
    "name": "ipython",
    "version": 3
   },
   "file_extension": ".py",
   "mimetype": "text/x-python",
   "name": "python",
   "nbconvert_exporter": "python",
   "pygments_lexer": "ipython3",
   "version": "3.7.6"
  },
  "toc": {
   "base_numbering": 1,
   "nav_menu": {},
   "number_sections": true,
   "sideBar": true,
   "skip_h1_title": false,
   "title_cell": "Table of Contents",
   "title_sidebar": "Contents",
   "toc_cell": false,
   "toc_position": {},
   "toc_section_display": true,
   "toc_window_display": false
  }
 },
 "nbformat": 4,
 "nbformat_minor": 5
}
